{
 "cells": [
  {
   "cell_type": "code",
   "execution_count": null,
   "id": "9639a774",
   "metadata": {},
   "outputs": [],
   "source": [
    "# imports\n",
    "\n",
    "import os\n",
    "import requests\n",
    "from dotenv import load_dotenv\n",
    "from bs4 import BeautifulSoup\n",
    "from IPython.display import Markdown, display\n",
    "from openai import OpenAI\n"
   ]
  },
  {
   "cell_type": "code",
   "execution_count": null,
   "id": "4d32d4ae",
   "metadata": {},
   "outputs": [],
   "source": [
    "# You can use the OpenAI client python library to call Ollama:\n",
    "\n",
    "from openai import OpenAI\n",
    "ollama_via_openai = OpenAI(base_url='http://localhost:11434/v1', api_key='ollama')\n"
   ]
  },
  {
   "cell_type": "code",
   "execution_count": 4,
   "id": "451019d8",
   "metadata": {},
   "outputs": [
    {
     "name": "stdout",
     "output_type": "stream",
     "text": [
      "<think>\n",
      "Okay, so I received a lot of \"DeepSeek!\" messages from the user. That's pretty common for some AI models, but it's a good sign—people are excited about seeing how this model excels in their fields. The user seems very engaged and interested in their topics.\n",
      "\n",
      "First, I want to understand the context they're discussing. They mentioned \"AI\" and specific areas like technology, science, math, and personal experiences. It sounds like if you have a project or question, maybe from a student, researcher, or someone into tech trends, they'd engage with this model.\n",
      "\n",
      "I should consider what makes my model stand out or what potential improvements I can offer based on their queries. Maybe enhancing response times could help them get answers faster, so that would be something to look forward to when others ask questions.\n",
      "\n",
      "Also, if there are areas where models can improve but aren't currently happening yet, maybe working on advanced AI features in the future could bring new benefits. That's a good long-term strategy for their benefit.\n",
      "\n",
      "Overall, by being excited about what they're asking about and acknowledging that other similar models exist, I'm encouraging curiosity without suggesting specific solutions. If there are any specific questions or topics they'd like me to explore further, offering assistance would be great.\n",
      "</think>\n",
      "\n",
      "Oh, it's wonderful! Seeing multiple \"DeepSeek!\" messages is a big indicator of your creativity and engagement with the content you're sharing. Your approach resonates with others, especially those curious about AI and its applications in various fields.\n",
      "\n",
      "I encourage you to engage by exploring any of your thoughts or questions on the topics you mention! If there's something specific you'd like to discuss or explore, don't hesitate to ask. I'm always open to diving deeper into any of these intriguing areas—whether it's technology, science, math, personal experiences, or anything in between!\n",
      "\n",
      "Looking forward to exploring some fascinating aspects of AI and its impact on the world!\n"
     ]
    }
   ],
   "source": [
    "\n",
    "message = \"Hello, Deepseek! This is my first ever message to you! Hi!\"\n",
    "response = ollama_via_openai.chat.completions.create(model=\"deepseek-r1:1.5b\", messages=[{\"role\":\"user\", \"content\":message}])\n",
    "print(response.choices[0].message.content)\n"
   ]
  },
  {
   "cell_type": "code",
   "execution_count": 5,
   "id": "9e4423b8",
   "metadata": {},
   "outputs": [],
   "source": [
    "# Some websites need you to use proper headers when fetching them:\n",
    "headers = {\n",
    " \"User-Agent\": \"Mozilla/5.0 (Windows NT 10.0; Win64; x64) AppleWebKit/537.36 (KHTML, like Gecko) Chrome/117.0.0.0 Safari/537.36\"\n",
    "}\n",
    "\n",
    "class Website:\n",
    "\n",
    "    def __init__(self, url):\n",
    "        \"\"\"\n",
    "        Create this Website object from the given url using the BeautifulSoup library\n",
    "        \"\"\"\n",
    "        self.url = url\n",
    "        response = requests.get(url, headers=headers)\n",
    "        soup = BeautifulSoup(response.content, 'html.parser')\n",
    "        self.title = soup.title.string if soup.title else \"No title found\"\n",
    "        for irrelevant in soup.body([\"script\", \"style\", \"img\", \"input\"]):\n",
    "            irrelevant.decompose()\n",
    "        self.text = soup.body.get_text(separator=\"\\n\", strip=True)\n"
   ]
  },
  {
   "cell_type": "code",
   "execution_count": 6,
   "id": "e41090de",
   "metadata": {},
   "outputs": [
    {
     "name": "stdout",
     "output_type": "stream",
     "text": [
      "Home - Edward Donner\n",
      "Home\n",
      "Connect Four\n",
      "Outsmart\n",
      "An arena that pits LLMs against each other in a battle of diplomacy and deviousness\n",
      "About\n",
      "Posts\n",
      "Well, hi there.\n",
      "I’m Ed. I like writing code and experimenting with LLMs, and hopefully you’re here because you do too. I also enjoy DJing (but I’m badly out of practice), amateur electronic music production (\n",
      "very\n",
      "amateur) and losing myself in\n",
      "Hacker News\n",
      ", nodding my head sagely to things I only half understand.\n",
      "I’m the co-founder and CTO of\n",
      "Nebula.io\n",
      ". We’re applying AI to a field where it can make a massive, positive impact: helping people discover their potential and pursue their reason for being. Recruiters use our product today to source, understand, engage and manage talent. I’m previously the founder and CEO of AI startup untapt,\n",
      "acquired in 2021\n",
      ".\n",
      "We work with groundbreaking, proprietary LLMs verticalized for talent, we’ve\n",
      "patented\n",
      "our matching model, and our award-winning platform has happy customers and tons of press coverage.\n",
      "Connect\n",
      "with me for more!\n",
      "May 28, 2025\n",
      "Connecting my courses – become an LLM expert and leader\n",
      "May 18, 2025\n",
      "2025 AI Executive Briefing\n",
      "April 21, 2025\n",
      "The Complete Agentic AI Engineering Course\n",
      "January 23, 2025\n",
      "LLM Workshop – Hands-on with Agents – resources\n",
      "Navigation\n",
      "Home\n",
      "Connect Four\n",
      "Outsmart\n",
      "An arena that pits LLMs against each other in a battle of diplomacy and deviousness\n",
      "About\n",
      "Posts\n",
      "Get in touch\n",
      "ed [at] edwarddonner [dot] com\n",
      "www.edwarddonner.com\n",
      "Follow me\n",
      "LinkedIn\n",
      "Twitter\n",
      "Facebook\n",
      "Subscribe to newsletter\n",
      "Type your email…\n",
      "Subscribe\n"
     ]
    }
   ],
   "source": [
    "# Let's try one out. Change the website and add print statements to follow along.\n",
    "\n",
    "ed = Website(\"https://edwarddonner.com\")\n",
    "print(ed.title)\n",
    "print(ed.text)\n"
   ]
  },
  {
   "cell_type": "code",
   "execution_count": 7,
   "id": "997f0ba8",
   "metadata": {},
   "outputs": [],
   "source": [
    "# Define our system prompt - you can experiment with this later, changing the last sentence to 'Respond in markdown in Spanish.\"\n",
    "\n",
    "system_prompt = \"You are an assistant that analyzes the contents of a website \\\n",
    "and provides a short summary, ignoring text that might be navigation related. \\\n",
    "Respond in markdown.\"\n"
   ]
  },
  {
   "cell_type": "code",
   "execution_count": 8,
   "id": "3bd9bdd0",
   "metadata": {},
   "outputs": [],
   "source": [
    "# A function that writes a User Prompt that asks for summaries of websites:\n",
    "\n",
    "def user_prompt_for(website):\n",
    "    user_prompt = f\"You are looking at a website titled {website.title}\"\n",
    "    user_prompt += \"\\nThe contents of this website is as follows; \\\n",
    "please provide a short summary of this website in markdown. \\\n",
    "If it includes news or announcements, then summarize these too.\\n\\n\"\n",
    "    user_prompt += website.text\n",
    "    return user_prompt\n"
   ]
  },
  {
   "cell_type": "code",
   "execution_count": 9,
   "id": "8488899a",
   "metadata": {},
   "outputs": [],
   "source": [
    "# See how this function creates exactly the format above\n",
    "\n",
    "def messages_for(website):\n",
    "    return [\n",
    "        {\"role\": \"system\", \"content\": system_prompt},\n",
    "        {\"role\": \"user\", \"content\": user_prompt_for(website)}\n",
    "    ]\n"
   ]
  },
  {
   "cell_type": "code",
   "execution_count": 10,
   "id": "28185f60",
   "metadata": {},
   "outputs": [
    {
     "data": {
      "text/plain": [
       "[{'role': 'system',\n",
       "  'content': 'You are an assistant that analyzes the contents of a website and provides a short summary, ignoring text that might be navigation related. Respond in markdown.'},\n",
       " {'role': 'user',\n",
       "  'content': 'You are looking at a website titled Home - Edward Donner\\nThe contents of this website is as follows; please provide a short summary of this website in markdown. If it includes news or announcements, then summarize these too.\\n\\nHome\\nConnect Four\\nOutsmart\\nAn arena that pits LLMs against each other in a battle of diplomacy and deviousness\\nAbout\\nPosts\\nWell, hi there.\\nI’m Ed. I like writing code and experimenting with LLMs, and hopefully you’re here because you do too. I also enjoy DJing (but I’m badly out of practice), amateur electronic music production (\\nvery\\namateur) and losing myself in\\nHacker News\\n, nodding my head sagely to things I only half understand.\\nI’m the co-founder and CTO of\\nNebula.io\\n. We’re applying AI to a field where it can make a massive, positive impact: helping people discover their potential and pursue their reason for being. Recruiters use our product today to source, understand, engage and manage talent. I’m previously the founder and CEO of AI startup untapt,\\nacquired in 2021\\n.\\nWe work with groundbreaking, proprietary LLMs verticalized for talent, we’ve\\npatented\\nour matching model, and our award-winning platform has happy customers and tons of press coverage.\\nConnect\\nwith me for more!\\nMay 28, 2025\\nConnecting my courses – become an LLM expert and leader\\nMay 18, 2025\\n2025 AI Executive Briefing\\nApril 21, 2025\\nThe Complete Agentic AI Engineering Course\\nJanuary 23, 2025\\nLLM Workshop – Hands-on with Agents – resources\\nNavigation\\nHome\\nConnect Four\\nOutsmart\\nAn arena that pits LLMs against each other in a battle of diplomacy and deviousness\\nAbout\\nPosts\\nGet in touch\\ned [at] edwarddonner [dot] com\\nwww.edwarddonner.com\\nFollow me\\nLinkedIn\\nTwitter\\nFacebook\\nSubscribe to newsletter\\nType your email…\\nSubscribe'}]"
      ]
     },
     "execution_count": 10,
     "metadata": {},
     "output_type": "execute_result"
    }
   ],
   "source": [
    "messages_for(ed)\n"
   ]
  },
  {
   "cell_type": "code",
   "execution_count": 11,
   "id": "1396f4f6",
   "metadata": {},
   "outputs": [],
   "source": [
    "\n",
    "def summarize(url):\n",
    "    website = Website(url)\n",
    "    response = ollama_via_openai.chat.completions.create(\n",
    "        model = \"deepseek-r1:1.5b\",\n",
    "        messages = messages_for(website)\n",
    "    )\n",
    "    return response.choices[0].message.content\n"
   ]
  },
  {
   "cell_type": "code",
   "execution_count": 12,
   "id": "72a285f3",
   "metadata": {},
   "outputs": [
    {
     "data": {
      "text/plain": [
       "'<think>\\nAlright, I\\'m presented with this query from a user who started by describing a website as \"Home - Edward Donner.\" The content of the website is quite detailed, including sections like Home, Connect Four, Outsmart, and an About section. There are also links to Posts and news.\\n\\nThe initial response explained that the user was looking for an analysis of this site and provided a markdown summary. After the first reply, I responded with another markdown-based summary but corrected it by adding more content in between the summary lines.\\n\\nNow, I need to proceed similarly. The goal is to create a brief, concise summary of the website, highlighting news or major updates. I\\'ll start by identifying key sections and key points. \\n\\nFirstly, connect Four appears as a prominent feature; that\\'s worth noting. Outsmart is also mentioned, so it\\'s another significant element. These are educational games/agents, which is important to include.\\n\\nThe About section talks about Ed, the co-founder and CTO of Nebula.io. He mentions his role in applying AI for talent discovery. That’s an interesting detail that adds context without being too detailed. The platform is a tool for recruiting Talent using Propelled LLMs, which ties back towards AI impact.\\n\\nThere are several announcements at different times: May 2025 event about connecting courses as an expert, 2025 AI Executive Briefing, and the LLM Workshop. These are important to include in order to show that the site is active with timely updates.\\n\\nAdditionally, navigation links like Home, Connect Four, Outsmart, and About, but I don\\'t see any major news related to each of these directly beyond their being features or announcements, which makes sense given the name\\'s hint.\\n\\nI should avoid mentioning anything besides connecting four in the summary. The main topics are the features, notable updates, who the creator is about, and the platform\\'s function on recruiting talent through AI.\\n\\nSo, structuring the summary: start with a header about Edward Donner, mention connect Four and Outsmart as highlights, reference Ed\\'s background, list key events or news at different times, and conclude the current status without adding unnecessary details.\\n</think>\\n\\nHere’s a brief, concise summary of the website:\\n\\nEdward Donner features educational games/agents—Connect Four and Outsmart—and a focus on a co-founder named Ed. Ed emphasizes both his role in applying AI to talent discovery and his connection with recruiting talent through Propelled LLMs. The site highlights timely announcements like May 2025 events for learning, the 2025 AI Executive Briefing, and the LLM Workshop, underscoring its dynamic and impactful nature.  \\n\\n**Summary:**  \\nEdward Donner offers Connect Four and Outsmart as educational tools while highlighting Ed Donner’s work applying AI to talent discovery and recruiting talent via Propelled LLMs. Notable announcements include May 2025 events for learning, the 2025 AI Executive Briefing, and the LLM Workshop.'"
      ]
     },
     "execution_count": 12,
     "metadata": {},
     "output_type": "execute_result"
    }
   ],
   "source": [
    "summarize(\"https://edwarddonner.com\")\n"
   ]
  },
  {
   "cell_type": "code",
   "execution_count": 13,
   "id": "66679350",
   "metadata": {},
   "outputs": [],
   "source": [
    "# A function to display this nicely in the Jupyter output, using markdown\n",
    "\n",
    "def display_summary(url):\n",
    "    summary = summarize(url)\n",
    "    display(Markdown(summary))\n"
   ]
  },
  {
   "cell_type": "code",
   "execution_count": null,
   "id": "362baf30",
   "metadata": {},
   "outputs": [
    {
     "data": {
      "text/markdown": [
       "<think>\n",
       "Alright, let's break this down. The user provided a website profile for Edward Donner and has asked for a short summary, mainly focusing on news or announcements.\n",
       "\n",
       "First, I see the site is about something related to LLMs (Large Language Models). There are mentions of Connect Four and Outsmart games as part of the arena, which seem like they're related to AI development or competition between various models. The 'About' section lists several pieces that highlight their work, using markdown.\n",
       "\n",
       "I need to make sure I include what's really important here: their role in making LLMs impactful for people discovering potential and fostering talent. Also, the platform has a presence in hacker news with featured posts by Ed. Additionally, there are announcements about various workshops and educational materials to note.\n",
       "\n",
       "The user wants this summary without any navigation-related parts, so I should focus on the major announcements instead of the structure they provided.\n",
       "</think>\n",
       "\n",
       "Edward Donner is a co-founder and CTO of nebula.io, where they specialize in applying AI to help people discover their potential and lead their lives. The platform has gained significant attention for its ability to align talent with their purposes, using LLMs to facilitate talent discovery through features like connect four-leveling or other AI-related enhancements.\n",
       "\n",
       "Notable events include workshops and educational materials showcasing the use of LLMs in various fields. Additionally, they have announced upcoming sessions on topics such as \"LLM Workshop – Hands-on with Agents – resources\" and \"The Complete Agentic AI Engineering Course.\""
      ],
      "text/plain": [
       "<IPython.core.display.Markdown object>"
      ]
     },
     "metadata": {},
     "output_type": "display_data"
    }
   ],
   "source": [
    "display_summary(\"https://edwarddonner.com\")\n",
    "display_summary(\"https://anthropic.com\")"
   ]
  },
  {
   "cell_type": "code",
   "execution_count": null,
   "id": "5d6227cc",
   "metadata": {},
   "outputs": [],
   "source": []
  }
 ],
 "metadata": {
  "kernelspec": {
   "display_name": "llms",
   "language": "python",
   "name": "python3"
  },
  "language_info": {
   "codemirror_mode": {
    "name": "ipython",
    "version": 3
   },
   "file_extension": ".py",
   "mimetype": "text/x-python",
   "name": "python",
   "nbconvert_exporter": "python",
   "pygments_lexer": "ipython3",
   "version": "3.11.12"
  }
 },
 "nbformat": 4,
 "nbformat_minor": 5
}
